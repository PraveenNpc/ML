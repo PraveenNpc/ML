{
 "cells": [
  {
   "cell_type": "code",
   "execution_count": 1,
   "metadata": {},
   "outputs": [],
   "source": [
    "# Author       : Praveen Kumar N\n",
    "# E-Mail       : praveenkumar.npc9@gmail.com\n",
    "# Contact      : +91-9738407481\n",
    "# Linear Regression by using numpy package"
   ]
  },
  {
   "cell_type": "code",
   "execution_count": 2,
   "metadata": {},
   "outputs": [],
   "source": [
    "import numpy as np\n",
    "import matplotlib.pyplot as plt"
   ]
  },
  {
   "cell_type": "code",
   "execution_count": 3,
   "metadata": {
    "colab": {
     "base_uri": "https://localhost:8080/",
     "height": 1000
    },
    "colab_type": "code",
    "id": "8JLiICJmFLE0",
    "outputId": "7fbdfa70-e309-4b6a-f70c-b246e670aaf6"
   },
   "outputs": [
    {
     "data": {
      "text/plain": [
       "array([[-1.        ],\n",
       "       [-0.97979798],\n",
       "       [-0.95959596],\n",
       "       [-0.93939394],\n",
       "       [-0.91919192],\n",
       "       [-0.8989899 ],\n",
       "       [-0.87878788],\n",
       "       [-0.85858586],\n",
       "       [-0.83838384],\n",
       "       [-0.81818182],\n",
       "       [-0.7979798 ],\n",
       "       [-0.77777778],\n",
       "       [-0.75757576],\n",
       "       [-0.73737374],\n",
       "       [-0.71717172],\n",
       "       [-0.6969697 ],\n",
       "       [-0.67676768],\n",
       "       [-0.65656566],\n",
       "       [-0.63636364],\n",
       "       [-0.61616162],\n",
       "       [-0.5959596 ],\n",
       "       [-0.57575758],\n",
       "       [-0.55555556],\n",
       "       [-0.53535354],\n",
       "       [-0.51515152],\n",
       "       [-0.49494949],\n",
       "       [-0.47474747],\n",
       "       [-0.45454545],\n",
       "       [-0.43434343],\n",
       "       [-0.41414141],\n",
       "       [-0.39393939],\n",
       "       [-0.37373737],\n",
       "       [-0.35353535],\n",
       "       [-0.33333333],\n",
       "       [-0.31313131],\n",
       "       [-0.29292929],\n",
       "       [-0.27272727],\n",
       "       [-0.25252525],\n",
       "       [-0.23232323],\n",
       "       [-0.21212121],\n",
       "       [-0.19191919],\n",
       "       [-0.17171717],\n",
       "       [-0.15151515],\n",
       "       [-0.13131313],\n",
       "       [-0.11111111],\n",
       "       [-0.09090909],\n",
       "       [-0.07070707],\n",
       "       [-0.05050505],\n",
       "       [-0.03030303],\n",
       "       [-0.01010101],\n",
       "       [ 0.01010101],\n",
       "       [ 0.03030303],\n",
       "       [ 0.05050505],\n",
       "       [ 0.07070707],\n",
       "       [ 0.09090909],\n",
       "       [ 0.11111111],\n",
       "       [ 0.13131313],\n",
       "       [ 0.15151515],\n",
       "       [ 0.17171717],\n",
       "       [ 0.19191919],\n",
       "       [ 0.21212121],\n",
       "       [ 0.23232323],\n",
       "       [ 0.25252525],\n",
       "       [ 0.27272727],\n",
       "       [ 0.29292929],\n",
       "       [ 0.31313131],\n",
       "       [ 0.33333333],\n",
       "       [ 0.35353535],\n",
       "       [ 0.37373737],\n",
       "       [ 0.39393939],\n",
       "       [ 0.41414141],\n",
       "       [ 0.43434343],\n",
       "       [ 0.45454545],\n",
       "       [ 0.47474747],\n",
       "       [ 0.49494949],\n",
       "       [ 0.51515152],\n",
       "       [ 0.53535354],\n",
       "       [ 0.55555556],\n",
       "       [ 0.57575758],\n",
       "       [ 0.5959596 ],\n",
       "       [ 0.61616162],\n",
       "       [ 0.63636364],\n",
       "       [ 0.65656566],\n",
       "       [ 0.67676768],\n",
       "       [ 0.6969697 ],\n",
       "       [ 0.71717172],\n",
       "       [ 0.73737374],\n",
       "       [ 0.75757576],\n",
       "       [ 0.77777778],\n",
       "       [ 0.7979798 ],\n",
       "       [ 0.81818182],\n",
       "       [ 0.83838384],\n",
       "       [ 0.85858586],\n",
       "       [ 0.87878788],\n",
       "       [ 0.8989899 ],\n",
       "       [ 0.91919192],\n",
       "       [ 0.93939394],\n",
       "       [ 0.95959596],\n",
       "       [ 0.97979798],\n",
       "       [ 1.        ]])"
      ]
     },
     "execution_count": 3,
     "metadata": {},
     "output_type": "execute_result"
    }
   ],
   "source": [
    "np.random.seed(225)\n",
    "data_x = np.linspace(-10.0, 10.0, 100)[:, np.newaxis]\n",
    "data_y = np.sin(data_x) + 0.1 * np.power(data_x, 2) + 0.5 * np.random.randn(100, 1)\n",
    "#data_y = 29*data_x  + 20* np.random.randn(100, 1)\n",
    "data_x /= np.max(data_x) #scaling\n",
    "data_x"
   ]
  },
  {
   "cell_type": "code",
   "execution_count": 4,
   "metadata": {
    "colab": {
     "base_uri": "https://localhost:8080/",
     "height": 1000
    },
    "colab_type": "code",
    "id": "4TdaAALnFUOe",
    "outputId": "6a2f0130-6e10-47af-82d3-153e15b6eaac"
   },
   "outputs": [
    {
     "data": {
      "text/plain": [
       "array([[ 1.        , -1.        ],\n",
       "       [ 1.        , -0.97979798],\n",
       "       [ 1.        , -0.95959596],\n",
       "       [ 1.        , -0.93939394],\n",
       "       [ 1.        , -0.91919192],\n",
       "       [ 1.        , -0.8989899 ],\n",
       "       [ 1.        , -0.87878788],\n",
       "       [ 1.        , -0.85858586],\n",
       "       [ 1.        , -0.83838384],\n",
       "       [ 1.        , -0.81818182],\n",
       "       [ 1.        , -0.7979798 ],\n",
       "       [ 1.        , -0.77777778],\n",
       "       [ 1.        , -0.75757576],\n",
       "       [ 1.        , -0.73737374],\n",
       "       [ 1.        , -0.71717172],\n",
       "       [ 1.        , -0.6969697 ],\n",
       "       [ 1.        , -0.67676768],\n",
       "       [ 1.        , -0.65656566],\n",
       "       [ 1.        , -0.63636364],\n",
       "       [ 1.        , -0.61616162],\n",
       "       [ 1.        , -0.5959596 ],\n",
       "       [ 1.        , -0.57575758],\n",
       "       [ 1.        , -0.55555556],\n",
       "       [ 1.        , -0.53535354],\n",
       "       [ 1.        , -0.51515152],\n",
       "       [ 1.        , -0.49494949],\n",
       "       [ 1.        , -0.47474747],\n",
       "       [ 1.        , -0.45454545],\n",
       "       [ 1.        , -0.43434343],\n",
       "       [ 1.        , -0.41414141],\n",
       "       [ 1.        , -0.39393939],\n",
       "       [ 1.        , -0.37373737],\n",
       "       [ 1.        , -0.35353535],\n",
       "       [ 1.        , -0.33333333],\n",
       "       [ 1.        , -0.31313131],\n",
       "       [ 1.        , -0.29292929],\n",
       "       [ 1.        , -0.27272727],\n",
       "       [ 1.        , -0.25252525],\n",
       "       [ 1.        , -0.23232323],\n",
       "       [ 1.        , -0.21212121],\n",
       "       [ 1.        , -0.19191919],\n",
       "       [ 1.        , -0.17171717],\n",
       "       [ 1.        , -0.15151515],\n",
       "       [ 1.        , -0.13131313],\n",
       "       [ 1.        , -0.11111111],\n",
       "       [ 1.        , -0.09090909],\n",
       "       [ 1.        , -0.07070707],\n",
       "       [ 1.        , -0.05050505],\n",
       "       [ 1.        , -0.03030303],\n",
       "       [ 1.        , -0.01010101],\n",
       "       [ 1.        ,  0.01010101],\n",
       "       [ 1.        ,  0.03030303],\n",
       "       [ 1.        ,  0.05050505],\n",
       "       [ 1.        ,  0.07070707],\n",
       "       [ 1.        ,  0.09090909],\n",
       "       [ 1.        ,  0.11111111],\n",
       "       [ 1.        ,  0.13131313],\n",
       "       [ 1.        ,  0.15151515],\n",
       "       [ 1.        ,  0.17171717],\n",
       "       [ 1.        ,  0.19191919],\n",
       "       [ 1.        ,  0.21212121],\n",
       "       [ 1.        ,  0.23232323],\n",
       "       [ 1.        ,  0.25252525],\n",
       "       [ 1.        ,  0.27272727],\n",
       "       [ 1.        ,  0.29292929],\n",
       "       [ 1.        ,  0.31313131],\n",
       "       [ 1.        ,  0.33333333],\n",
       "       [ 1.        ,  0.35353535],\n",
       "       [ 1.        ,  0.37373737],\n",
       "       [ 1.        ,  0.39393939],\n",
       "       [ 1.        ,  0.41414141],\n",
       "       [ 1.        ,  0.43434343],\n",
       "       [ 1.        ,  0.45454545],\n",
       "       [ 1.        ,  0.47474747],\n",
       "       [ 1.        ,  0.49494949],\n",
       "       [ 1.        ,  0.51515152],\n",
       "       [ 1.        ,  0.53535354],\n",
       "       [ 1.        ,  0.55555556],\n",
       "       [ 1.        ,  0.57575758],\n",
       "       [ 1.        ,  0.5959596 ],\n",
       "       [ 1.        ,  0.61616162],\n",
       "       [ 1.        ,  0.63636364],\n",
       "       [ 1.        ,  0.65656566],\n",
       "       [ 1.        ,  0.67676768],\n",
       "       [ 1.        ,  0.6969697 ],\n",
       "       [ 1.        ,  0.71717172],\n",
       "       [ 1.        ,  0.73737374],\n",
       "       [ 1.        ,  0.75757576],\n",
       "       [ 1.        ,  0.77777778],\n",
       "       [ 1.        ,  0.7979798 ],\n",
       "       [ 1.        ,  0.81818182],\n",
       "       [ 1.        ,  0.83838384],\n",
       "       [ 1.        ,  0.85858586],\n",
       "       [ 1.        ,  0.87878788],\n",
       "       [ 1.        ,  0.8989899 ],\n",
       "       [ 1.        ,  0.91919192],\n",
       "       [ 1.        ,  0.93939394],\n",
       "       [ 1.        ,  0.95959596],\n",
       "       [ 1.        ,  0.97979798],\n",
       "       [ 1.        ,  1.        ]])"
      ]
     },
     "execution_count": 4,
     "metadata": {},
     "output_type": "execute_result"
    }
   ],
   "source": [
    "data_x = np.hstack((np.ones_like(data_x), data_x))\n",
    "data_x"
   ]
  },
  {
   "cell_type": "code",
   "execution_count": 5,
   "metadata": {
    "colab": {
     "base_uri": "https://localhost:8080/",
     "height": 468
    },
    "colab_type": "code",
    "id": "5o4IpF-zFWxc",
    "outputId": "ab05db83-3588-4d5d-c831-42debbc3d60e"
   },
   "outputs": [
    {
     "name": "stdout",
     "output_type": "stream",
     "text": [
      "[68 40 72  9 78 95 66 27 21  0 37 17 20 46 73 96 74 84 92 75 30 59 12 47\n",
      " 32 31  1 13 62 63 91 89 44  4 51 79 88 61 49  2  3 83 19  6 82 60 65 22\n",
      " 25 71 53 34 41 55 16 35 58  5 97 80 18 50 29  7  8 56 26 24 81 99 54 45\n",
      " 70 36 23 94 69 57 10 85 33 76 15 86 28 77 39 11 93 98 64 87 42 90 14 52\n",
      " 48 38 67 43]\n",
      "(20, 2) 160 20 80\n",
      "[[ 1.          0.37373737]\n",
      " [ 1.         -0.19191919]\n",
      " [ 1.          0.45454545]\n",
      " [ 1.         -0.81818182]\n",
      " [ 1.          0.57575758]\n",
      " [ 1.          0.91919192]\n",
      " [ 1.          0.33333333]\n",
      " [ 1.         -0.45454545]\n",
      " [ 1.         -0.57575758]\n",
      " [ 1.         -1.        ]\n",
      " [ 1.         -0.25252525]\n",
      " [ 1.         -0.65656566]\n",
      " [ 1.         -0.5959596 ]\n",
      " [ 1.         -0.07070707]\n",
      " [ 1.          0.47474747]\n",
      " [ 1.          0.93939394]\n",
      " [ 1.          0.49494949]\n",
      " [ 1.          0.6969697 ]\n",
      " [ 1.          0.85858586]\n",
      " [ 1.          0.51515152]]\n"
     ]
    }
   ],
   "source": [
    "order = np.random.permutation(len(data_x))\n",
    "portion = 20\n",
    "test_x = data_x[order[:portion]]\n",
    "test_y = data_y[order[:portion]]\n",
    "train_x = data_x[order[portion:]]\n",
    "train_y = data_y[order[portion:]]\n",
    "print(order)\n",
    "print (test_x.shape, train_x.size, test_y.size, train_y.size)\n",
    "print (test_x)"
   ]
  },
  {
   "cell_type": "code",
   "execution_count": 6,
   "metadata": {
    "colab": {
     "base_uri": "https://localhost:8080/",
     "height": 265
    },
    "colab_type": "code",
    "id": "KJU06clcU5iw",
    "outputId": "7e7c8ea4-c153-483e-f217-4553dc6f19a6"
   },
   "outputs": [
    {
     "data": {
      "image/png": "[encoded data removed]",
      "text/plain": [
       "<Figure size 432x288 with 1 Axes>"
      ]
     },
     "metadata": {
      "needs_background": "light"
     },
     "output_type": "display_data"
    }
   ],
   "source": [
    "plt.scatter(train_x[:,1], train_y, c='b', label='Data')\n",
    "plt.show()"
   ]
  },
  {
   "cell_type": "code",
   "execution_count": 7,
   "metadata": {
    "colab": {},
    "colab_type": "code",
    "id": "2_qABGqzFZOm"
   },
   "outputs": [],
   "source": [
    "def get_gradient(w, x, y):\n",
    "    y_estimate = (np.power(x,2).dot(w)).flatten() #hypothesis\n",
    "    error = (y.flatten() - y_estimate) \n",
    "    mse = (1.0/len(x))*np.sum(np.power(error, 2)) # mse\n",
    "    gradient = -(1.0/len(x)) * error.dot(x**2)         # gradient\n",
    "    return gradient, mse"
   ]
  },
  {
   "cell_type": "code",
   "execution_count": 8,
   "metadata": {
    "colab": {
     "base_uri": "https://localhost:8080/",
     "height": 971
    },
    "colab_type": "code",
    "id": "XuzNhrcTFcm6",
    "outputId": "3c3578bc-ba8a-42f1-9e6c-728b1db9ac7d"
   },
   "outputs": [
    {
     "name": "stdout",
     "output_type": "stream",
     "text": [
      "Intial values of Weights:\n",
      "0.9908275646320475 0.27355061888057075\n",
      "Iteration: 10 - Error: 4.7157\n",
      "Updated Weights : 3.267464 , 2.370054\n",
      "Iteration: 20 - Error: 3.3489\n",
      "Updated Weights : 4.538952 , 2.065851\n",
      "Iteration: 30 - Error: 2.4717\n",
      "Updated Weights : 5.529184 , 1.714454\n",
      "Iteration: 40 - Error: 1.8981\n",
      "Updated Weights : 6.328553 , 1.426324\n",
      "Iteration: 50 - Error: 1.5229\n",
      "Updated Weights : 6.974947 , 1.193166\n",
      "Iteration: 60 - Error: 1.2775\n",
      "Updated Weights : 7.497680 , 1.004606\n",
      "Iteration: 70 - Error: 1.1171\n",
      "Updated Weights : 7.920413 , 0.852119\n",
      "Iteration: 80 - Error: 1.0121\n",
      "Updated Weights : 8.262276 , 0.728802\n",
      "Iteration: 90 - Error: 0.9435\n",
      "Updated Weights : 8.538738 , 0.629077\n",
      "Iteration: 100 - Error: 0.8986\n",
      "Updated Weights : 8.762313 , 0.548430\n",
      "Iteration: 110 - Error: 0.8693\n",
      "Updated Weights : 8.943117 , 0.483210\n",
      "Iteration: 120 - Error: 0.8501\n",
      "Updated Weights : 9.089332 , 0.430468\n",
      "Iteration: 130 - Error: 0.8375\n",
      "Updated Weights : 9.207576 , 0.387815\n",
      "Iteration: 140 - Error: 0.8293\n",
      "Updated Weights : 9.303199 , 0.353322\n",
      "Iteration: 150 - Error: 0.8239\n",
      "Updated Weights : 9.380529 , 0.325427\n",
      "Iteration: 160 - Error: 0.8204\n",
      "Updated Weights : 9.443066 , 0.302869\n",
      "Iteration: 170 - Error: 0.8181\n",
      "Updated Weights : 9.493639 , 0.284626\n",
      "Iteration: 180 - Error: 0.8166\n",
      "Updated Weights : 9.534537 , 0.269874\n",
      "Iteration: 190 - Error: 0.8156\n",
      "Updated Weights : 9.567612 , 0.257943\n",
      "Iteration: 200 - Error: 0.8150\n",
      "Updated Weights : 9.594359 , 0.248295\n",
      "Iteration: 210 - Error: 0.8146\n",
      "Updated Weights : 9.615989 , 0.240492\n",
      "Iteration: 220 - Error: 0.8143\n",
      "Updated Weights : 9.633481 , 0.234183\n",
      "Iteration: 230 - Error: 0.8141\n",
      "Updated Weights : 9.647627 , 0.229080\n",
      "Iteration: 240 - Error: 0.8140\n",
      "Updated Weights : 9.659067 , 0.224953\n",
      "Iteration: 250 - Error: 0.8139\n",
      "Updated Weights : 9.668318 , 0.221616\n",
      "Converged\n",
      "Final Weights : 9.672996 , 0.219929\n",
      "Test Cost = 1.1786627143195474\n"
     ]
    }
   ],
   "source": [
    "w = np.random.randn(2)\n",
    "alpha = 0.25\n",
    "tolerance = 1e-3\n",
    "print(\"Intial values of Weights:\")\n",
    "print(w[1], w[0])\n",
    "# Perform Gradient Descent\n",
    "iterations = 1\n",
    "while True:\n",
    "    gradient, error = get_gradient(w, train_x, train_y)\n",
    "    new_w = w - alpha * gradient\n",
    "#     print(gradient)\n",
    "    \n",
    "    # Stopping Condition\n",
    "    if np.sum(abs(new_w - w)) < tolerance:\n",
    "        print (\"Converged\")\n",
    "        break\n",
    "    \n",
    "    # Print error every 10 iterations\n",
    "    if iterations % 10 == 0:\n",
    "        print (\"Iteration: %d - Error: %.4f\" %(iterations, error))\n",
    "        print (\"Updated Weights : {:f} , {:f}\".format(w[1], w[0]))\n",
    "    iterations += 1\n",
    "    w = new_w\n",
    "\n",
    "print (\"Final Weights : {:f} , {:f}\".format(w[1], w[0]))\n",
    "print (\"Test Cost =\", get_gradient(w, test_x, test_y)[1])"
   ]
  },
  {
   "cell_type": "code",
   "execution_count": 9,
   "metadata": {
    "colab": {
     "base_uri": "https://localhost:8080/",
     "height": 52
    },
    "colab_type": "code",
    "id": "r1UZuG1AHrVa",
    "outputId": "1a5db03c-8c84-4669-89ca-25961504728e"
   },
   "outputs": [
    {
     "name": "stdout",
     "output_type": "stream",
     "text": [
      "Final eqn / hypothesis looks like:\n",
      "y = 9.672996.x^2 + 0.219929\n"
     ]
    }
   ],
   "source": [
    "print(\"Final eqn / hypothesis looks like:\")\n",
    "print('y = {:f}.x^2 + {:f}'.format(w[1], w[0]))"
   ]
  },
  {
   "cell_type": "code",
   "execution_count": 10,
   "metadata": {
    "colab": {
     "base_uri": "https://localhost:8080/",
     "height": 279
    },
    "colab_type": "code",
    "id": "qkh4rdrEFkdf",
    "outputId": "37281b02-2769-4985-8461-d099b58a61ec"
   },
   "outputs": [
    {
     "data": {
      "image/png": "[encoded data removed]",
      "text/plain": [
       "<Figure size 432x288 with 1 Axes>"
      ]
     },
     "metadata": {
      "needs_background": "light"
     },
     "output_type": "display_data"
    }
   ],
   "source": [
    "plt.plot(data_x[:,1], (data_x**2).dot(w), c='g', label='Model')\n",
    "plt.scatter(train_x[:,1], train_y, c='b', label='Train Set')\n",
    "plt.scatter(test_x[:,1], test_y, c='r', label='Test Set')\n",
    "plt.grid()\n",
    "plt.legend(loc='best')\n",
    "plt.xlabel('X')\n",
    "plt.ylabel('Y')\n",
    "plt.show()"
   ]
  },
  {
   "cell_type": "code",
   "execution_count": null,
   "metadata": {},
   "outputs": [],
   "source": []
  }
 ],
 "metadata": {
  "colab": {
   "collapsed_sections": [],
   "name": "LR_with_numpy.ipynb",
   "provenance": []
  },
  "kernelspec": {
   "display_name": "Python 3",
   "language": "python",
   "name": "python3"
  },
  "language_info": {
   "codemirror_mode": {
    "name": "ipython",
    "version": 3
   },
   "file_extension": ".py",
   "mimetype": "text/x-python",
   "name": "python",
   "nbconvert_exporter": "python",
   "pygments_lexer": "ipython3",
   "version": "3.7.4"
  }
 },
 "nbformat": 4,
 "nbformat_minor": 1
}
